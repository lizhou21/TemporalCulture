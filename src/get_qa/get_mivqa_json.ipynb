{
 "cells": [
  {
   "cell_type": "code",
   "execution_count": 174,
   "metadata": {},
   "outputs": [],
   "source": [
    "import json"
   ]
  },
  {
   "cell_type": "code",
   "execution_count": 175,
   "metadata": {},
   "outputs": [],
   "source": [
    "ann_file = \"../../dataset/annotations.json\"\n",
    "ann = json.load(open(ann_file, \"r\"))"
   ]
  },
  {
   "cell_type": "code",
   "execution_count": null,
   "metadata": {},
   "outputs": [],
   "source": [
    "QTYPES = {\n",
    "    'type': ['汉元素服饰', '传统汉服形制', '汉服改良版'], \n",
    "    'gender': ['男', '女'], \n",
    "    'period': ['秦汉时期','魏晋时期', '唐朝', '宋朝', '明朝'],  # this is ordered, needs to be preserved\n",
    "    'xiu': ['窄袖', '直袖', '半袖', '琵琶袖', '垂胡袖', '大袖'], \n",
    "    'jin': ['大襟', '对襟', '绕襟'], \n",
    "    'ling': ['直领', '坦领', '圆领', '方领', '立领', '交领'], \n",
    "    'bottoms': ['破群', '裤', '马面裙', '褶裙'], \n",
    "    'outerwear': ['比甲', '半臂', '云肩', '褙子', '披帛', '披风']\n",
    "}\n",
    "\n",
    "## generation template questions\n",
    "QUESTION_TEXTS = {\n",
    "    'period': [\"以下图片中的服饰属于<period>的风格的有？\",  # choices: 1P, 3!=P\n",
    "               \"以下图片中不属于<period>的服饰有？\", # choices: 1!=P, 3=P\n",
    "               \"以下图片中风格与其他服饰不同的有？\", # choices: 1!=P, 3=P\n",
    "               \"以下图片中属于<period>以后时期的服饰有？\", # choices: answer 1 newer than p, 3 older than p\n",
    "               \"以下的服装中比以上图片中的服饰更古老的有？\"] # context: p, answer 1 older than p, 3 newer than p\n",
    "}"
   ]
  },
  {
   "cell_type": "code",
   "execution_count": 177,
   "metadata": {},
   "outputs": [],
   "source": [
    "## taken period for an example\n",
    "# group by period\n",
    "from collections import defaultdict\n",
    "ann_period_grouped = defaultdict(list)\n",
    "for k, v in enumerate(ann):\n",
    "    ann_period_grouped[ann[v][\"meta\"][\"period\"]].append(ann[v])"
   ]
  },
  {
   "cell_type": "code",
   "execution_count": 179,
   "metadata": {},
   "outputs": [
    {
     "data": {
      "text/plain": [
       "{'source': 'TaoBao',\n",
       " 'img_list': ['num1041_img1.jpg',\n",
       "  'num1041_img2.jpg',\n",
       "  'num1041_img3.jpg',\n",
       "  'num1041_img5.jpg'],\n",
       " 'annotations': {'gender': ['female', 'female', 'female'],\n",
       "  'type': ['汉服改良版', '汉服改良版', '传统汉服形制'],\n",
       "  'style': ['TwoPiece', 'TwoPiece', 'TwoPiece'],\n",
       "  'period': ['明朝', '明朝', '明朝'],\n",
       "  'xiu': ['琵琶袖', '琵琶袖', '琵琶袖'],\n",
       "  'jin': ['大襟', '对襟', '对襟'],\n",
       "  'ling': ['交领', '直领', '直领'],\n",
       "  'bottoms': ['马面裙', '马面裙', '马面裙'],\n",
       "  'outerwear': [],\n",
       "  'cultural_element': ['刺绣']},\n",
       " 'meta': {'gender': 'female',\n",
       "  'type': 'unsure',\n",
       "  'style': 'TwoPiece',\n",
       "  'period': '明朝',\n",
       "  'xiu': '琵琶袖',\n",
       "  'jin': 'unsure',\n",
       "  'ling': 'unsure',\n",
       "  'bottoms': '马面裙',\n",
       "  'outerwear': ''}}"
      ]
     },
     "execution_count": 179,
     "metadata": {},
     "output_type": "execute_result"
    }
   ],
   "source": [
    "ann_period_grouped[\"明朝\"][0]"
   ]
  },
  {
   "cell_type": "markdown",
   "metadata": {},
   "source": [
    "## rule based generation functions"
   ]
  },
  {
   "cell_type": "code",
   "execution_count": 183,
   "metadata": {},
   "outputs": [],
   "source": [
    "import random\n",
    "from tqdm import tqdm\n",
    "\n",
    "def generate_period_question_t1(ann_period_grouped):\n",
    "    # \"以下图片中的服饰属于<period>的风格的有？\",  # choices: 1P, 3!=P\n",
    "    question_data = []\n",
    "    for period in QTYPES[\"period\"]:\n",
    "        total_items = len(ann_period_grouped[period])\n",
    "        # print(\"obtaining question for period: \", period, \" total items: \", total_items)\n",
    "        # get 1 item from this period as the answer\n",
    "        # get 3 items from other period as candidates\n",
    "        for idx, answer_item in tqdm(enumerate(ann_period_grouped[period])):\n",
    "            answer = {\"image\": random.choice(answer_item[\"img_list\"]), \"meta\": answer_item[\"meta\"]}\n",
    "            candidates = []\n",
    "            # get 3 other items from other period\n",
    "            other_periods = random.sample(list(set(QTYPES[\"period\"]) - set([period])), 3)\n",
    "            for other_period in other_periods:\n",
    "                cand_item = random.choice(ann_period_grouped[other_period])\n",
    "                candidates.append({\"image\": random.choice(cand_item[\"img_list\"]), \"meta\": cand_item[\"meta\"]})\n",
    "            assert len(candidates) == 3\n",
    "            question_data.append({\"answer\": answer,\n",
    "                                 \"candidates\": candidates,\n",
    "                                 \"answer_img\": answer[\"image\"],\n",
    "                                 \"candidate_imgs\": [c[\"image\"] for c in candidates],\n",
    "                                 \"question\": QUESTION_TEXTS[\"period\"][0].replace(\"<period>\", period),\n",
    "                                 \"question_type\": \"period\",\n",
    "                                 \"question_formular\": \"period_t1\"})\n",
    "    return question_data\n",
    "\n",
    "def generate_period_question_t2t3(ann_period_grouped):\n",
    "    question_data = []\n",
    "    for period in QTYPES[\"period\"]:\n",
    "        total_items = len(ann_period_grouped[period])\n",
    "        # take every 3 items from ann_period_grouped[period] as a group\n",
    "        for i in range(0, total_items, 3):\n",
    "            candidates = []\n",
    "            for x in ann_period_grouped[period][i:i+3]:\n",
    "                candidates.append({\"image\": random.choice(x[\"img_list\"]), \"meta\": x[\"meta\"]})\n",
    "            # print(candidates)\n",
    "            if len(candidates) != 3:\n",
    "                continue\n",
    "            # shuffle the candidate items\n",
    "            random.shuffle(candidates)\n",
    "\n",
    "            # get 1 item from other period as the answer item\n",
    "            answer_period = random.choice(list(set(QTYPES[\"period\"]) - set([period])))\n",
    "            # get 1 item from this period as the answer\n",
    "            answer_item = random.choice(ann_period_grouped[answer_period])\n",
    "            answer = {\"image\": random.choice(answer_item[\"img_list\"]), \"meta\": answer_item[\"meta\"]}\n",
    "            \n",
    "            question_template = random.choice(QUESTION_TEXTS[\"period\"][1:3])\n",
    "            \n",
    "            question_data.append({\"answer\": answer,\n",
    "                                 \"candidates\": candidates,\n",
    "                                 \"answer_img\": answer[\"image\"],\n",
    "                                 \"candidate_imgs\": [c[\"image\"] for c in candidates],\n",
    "                                 \"question\": question_template.replace(\"<period>\", period),\n",
    "                                 \"question_type\": \"period\",\n",
    "                                 \"question_formular\": \"period_t2t3\"})\n",
    "    return question_data\n",
    "\n",
    "def generate_period_question_t4(ann_period_grouped):\n",
    "    # \"以下图片中属于<period>以后时期的服饰有？\" choices: 1 newer than p, 3 older than p\n",
    "    question_data = []\n",
    "    for period in QTYPES[\"period\"][1:-1]:\n",
    "        cur_period_index = QTYPES[\"period\"].index(period)\n",
    "        answer_period_candidates = QTYPES[\"period\"][cur_period_index + 1:] # answer period should be later than cur_period\n",
    "        answer_period = random.choice(answer_period_candidates)\n",
    "        total_items = len(ann_period_grouped[answer_period])\n",
    "        # print(\"obtaining question for clothes after period: \", period, \" total items: \", total_items)\n",
    "        for idx, answer_item in tqdm(enumerate(ann_period_grouped[answer_period])):\n",
    "            answer = {\"image\": random.choice(answer_item[\"img_list\"]), \"meta\": answer_item[\"meta\"]}\n",
    "            # get 3 items from period before cur_period as candidates\n",
    "            candidates = []\n",
    "            period_before = QTYPES[\"period\"][:cur_period_index + 1]\n",
    "            candidate_periods = [random.choice(period_before) for _ in range(3)]\n",
    "            # add answer candidate\n",
    "            for cand_period in candidate_periods:\n",
    "                cand_item = random.choice(ann_period_grouped[cand_period])\n",
    "                candidates.append({\"image\": random.choice(cand_item[\"img_list\"]), \"meta\": cand_item[\"meta\"]})\n",
    "            \n",
    "            question_data.append({\"answer\": answer,\n",
    "                                 \"candidates\": candidates,\n",
    "                                 \"answer_img\": answer[\"image\"],\n",
    "                                 \"candidate_imgs\": [c[\"image\"] for c in candidates],\n",
    "                                 \"question\": QUESTION_TEXTS[\"period\"][3].replace(\"<period>\", period),\n",
    "                                 \"question_type\": \"period\",\n",
    "                                 \"question_formular\": \"period_t4\"})\n",
    "    return question_data\n",
    "\n",
    "\n",
    "def generate_period_question_t5(ann_period_grouped):\n",
    "    # \"以下图片中比<image>中的服饰更古老的有？\"] # context: p, answer 1 older than p, 3 newer than p\n",
    "    question_data = []\n",
    "    for period in QTYPES[\"period\"][1:-1]:\n",
    "        cur_period_index = QTYPES[\"period\"].index(period)\n",
    "        context_item = random.choice(ann_period_grouped[period])\n",
    "        context = {\"image\": random.choice(context_item[\"img_list\"]), \"meta\": context_item[\"meta\"]}\n",
    "        \n",
    "        total_items = len(ann_period_grouped[period])\n",
    "        # print(\"obtaining question for clothes after period: \", period, \" total items: \", total_items)\n",
    "        # answer period should be older than cur_period\n",
    "        answer_period_candidates = QTYPES[\"period\"][:cur_period_index] # answer period should be older than cur_period (index-1)\n",
    "        for answer_period in answer_period_candidates:\n",
    "            for idx, answer_item in tqdm(enumerate(ann_period_grouped[answer_period])):\n",
    "                answer = {\"image\": random.choice(answer_item[\"img_list\"]), \"meta\": answer_item[\"meta\"]}\n",
    "                # get 3 items from period before cur_period as candidates\n",
    "                candidates = []\n",
    "                period_after = QTYPES[\"period\"][cur_period_index+1:]\n",
    "                candidate_periods = [random.choice(period_after) for _ in range(3)]\n",
    "                # add answer candidate\n",
    "                for cand_period in candidate_periods:\n",
    "                    cand_item = random.choice(ann_period_grouped[cand_period])\n",
    "                    candidates.append({\"image\": random.choice(cand_item[\"img_list\"]), \"meta\": cand_item[\"meta\"]})\n",
    "                \n",
    "                question_data.append({\"answer\": answer,\n",
    "                                    \"candidates\": candidates,\n",
    "                                    \"answer_img\": answer[\"image\"],\n",
    "                                    \"candidate_imgs\": [c[\"image\"] for c in candidates],\n",
    "                                    \"question\": QUESTION_TEXTS[\"period\"][4],\n",
    "                                    \"question_type\": \"period\",\n",
    "                                    \"question_formular\": \"period_t5\",\n",
    "                                    \"context\": context})\n",
    "    return question_data\n",
    "        "
   ]
  },
  {
   "cell_type": "code",
   "execution_count": 184,
   "metadata": {},
   "outputs": [],
   "source": [
    "def formulate_option_answers(question_data):\n",
    "    options = [0, 0, 0, 0]\n",
    "    answer_option_idx = random.randint(0, 3)  # Choose a random index between 0 and 3\n",
    "    \n",
    "    # Place the answer at the randomly chosen position\n",
    "    options[answer_option_idx] = question_data[\"answer_img\"]\n",
    "    \n",
    "    # Place the candidate images in the remaining positions, preserving their original order\n",
    "    candidates = question_data[\"candidate_imgs\"]\n",
    "    assert len(candidates) == 3\n",
    "    \n",
    "    remaining_positions = [i for i in range(4) if i != answer_option_idx]\n",
    "    for i in range(3):  # We have 3 candidates\n",
    "        options[remaining_positions[i]] = candidates[i]\n",
    "    \n",
    "    return options, answer_option_idx\n",
    "    \n",
    "def generate_period_questions(ann_period_grouped):\n",
    "    qid = 0\n",
    "    question_data = []\n",
    "    generate_fns = [generate_period_question_t1,\n",
    "                     generate_period_question_t2t3,\n",
    "                     generate_period_question_t4,\n",
    "                     generate_period_question_t5]\n",
    "    for fn in generate_fns:\n",
    "        generated_questions = fn(ann_period_grouped)\n",
    "        for q in generated_questions:\n",
    "            clean_q  = {}\n",
    "            clean_q[\"question_meta\"] = q\n",
    "            clean_q[\"question\"] = q[\"question\"]\n",
    "            clean_q[\"options\"], clean_q[\"answer_idx\"] = formulate_option_answers(q)\n",
    "            clean_q[\"qid\"] = \"mivqa_%d\"%qid\n",
    "            qid += 1\n",
    "            question_data.append(clean_q)\n",
    "    return question_data\n",
    "    "
   ]
  },
  {
   "cell_type": "markdown",
   "metadata": {},
   "source": [
    "## combine all generation functions"
   ]
  },
  {
   "cell_type": "code",
   "execution_count": 191,
   "metadata": {},
   "outputs": [
    {
     "name": "stderr",
     "output_type": "stream",
     "text": [
      "14it [00:00, 71176.07it/s]\n",
      "1it [00:00, 28149.69it/s]\n",
      "46it [00:00, 109375.27it/s]\n",
      "25it [00:00, 72616.07it/s]\n",
      "52it [00:00, 118405.98it/s]\n",
      "25it [00:00, 128976.14it/s]\n",
      "25it [00:00, 14626.53it/s]\n",
      "52it [00:00, 162158.97it/s]\n",
      "14it [00:00, 87251.49it/s]\n",
      "14it [00:00, 120328.39it/s]\n",
      "1it [00:00, 36157.79it/s]\n",
      "14it [00:00, 147168.56it/s]\n",
      "1it [00:00, 36157.79it/s]\n",
      "46it [00:00, 174604.51it/s]"
     ]
    },
    {
     "name": "stdout",
     "output_type": "stream",
     "text": [
      "total questions generated:  374\n"
     ]
    },
    {
     "name": "stderr",
     "output_type": "stream",
     "text": [
      "\n"
     ]
    }
   ],
   "source": [
    "mivqa_period_questions = generate_period_questions(ann_period_grouped)\n",
    "print(\"total questions generated: \", len(mivqa_period_questions))"
   ]
  },
  {
   "cell_type": "markdown",
   "metadata": {},
   "source": [
    "generated question example"
   ]
  },
  {
   "cell_type": "code",
   "execution_count": 195,
   "metadata": {},
   "outputs": [
    {
     "name": "stdout",
     "output_type": "stream",
     "text": [
      "以下图片中的服饰属于秦汉时期的风格的有？ \n",
      " ['num178_img1.jpg', 'num1060_img1.jpg', 'num1148_img1.jpg', 'num1043_img2.jpg'] \n",
      " 1 \n",
      " {'answer': {'image': 'num1060_img1.jpg', 'meta': {'gender': 'female', 'type': 'unsure', 'style': 'OnePiece', 'period': '秦汉时期', 'xiu': 'unsure', 'jin': 'unsure', 'ling': '交领', 'bottoms': '', 'outerwear': ''}}, 'candidates': [{'image': 'num178_img1.jpg', 'meta': {'gender': 'female', 'type': 'unsure', 'style': 'unsure', 'period': '明朝', 'xiu': '直袖', 'jin': '对襟', 'ling': 'unsure', 'bottoms': '马面裙', 'outerwear': '褙子'}}, {'image': 'num1148_img1.jpg', 'meta': {'gender': 'male', 'type': '传统汉服形制', 'style': 'OnePiece', 'period': '宋朝', 'xiu': '大袖', 'jin': '大襟', 'ling': 'unsure', 'bottoms': '', 'outerwear': ''}}, {'image': 'num1043_img2.jpg', 'meta': {'gender': 'female', 'type': '传统汉服形制', 'style': 'unsure', 'period': '唐朝', 'xiu': 'unsure', 'jin': '对襟', 'ling': 'unsure', 'bottoms': 'unsure', 'outerwear': 'unsure'}}], 'answer_img': 'num1060_img1.jpg', 'candidate_imgs': ['num178_img1.jpg', 'num1148_img1.jpg', 'num1043_img2.jpg'], 'question': '以下图片中的服饰属于秦汉时期的风格的有？', 'question_type': 'period', 'question_formular': 'period_t1'} \n",
      "\n"
     ]
    }
   ],
   "source": [
    "print(mivqa_period_questions[0][\"question\"], \"\\n\",\n",
    "      mivqa_period_questions[0][\"options\"], \"\\n\",\n",
    "      mivqa_period_questions[0][\"answer_idx\"], \"\\n\",\n",
    "      mivqa_period_questions[0][\"question_meta\"], \"\\n\",)"
   ]
  },
  {
   "cell_type": "code",
   "execution_count": 186,
   "metadata": {},
   "outputs": [
    {
     "name": "stderr",
     "output_type": "stream",
     "text": [
      "14it [00:00, 101241.82it/s]\n",
      "1it [00:00, 29127.11it/s]\n",
      "46it [00:00, 145503.76it/s]\n",
      "25it [00:00, 93706.52it/s]\n",
      "52it [00:00, 105415.08it/s]"
     ]
    },
    {
     "name": "stdout",
     "output_type": "stream",
     "text": [
      "total number of mivqa questions:  138\n"
     ]
    },
    {
     "name": "stderr",
     "output_type": "stream",
     "text": [
      "\n"
     ]
    }
   ],
   "source": [
    "mivqa_period_t1 = generate_period_question_t1(ann_period_grouped)\n",
    "print(\"total number of mivqa questions: \", len(mivqa_period_t1))"
   ]
  },
  {
   "cell_type": "code",
   "execution_count": 187,
   "metadata": {},
   "outputs": [
    {
     "name": "stdout",
     "output_type": "stream",
     "text": [
      "total number of mivqa questions:  44\n"
     ]
    }
   ],
   "source": [
    "mivqa_period_t2t3 = generate_period_question_t2t3(ann_period_grouped)\n",
    "print(\"total number of mivqa questions: \", len(mivqa_period_t2t3))"
   ]
  },
  {
   "cell_type": "code",
   "execution_count": 188,
   "metadata": {},
   "outputs": [
    {
     "name": "stderr",
     "output_type": "stream",
     "text": [
      "52it [00:00, 180102.24it/s]\n",
      "52it [00:00, 127174.23it/s]\n",
      "52it [00:00, 188834.47it/s]"
     ]
    },
    {
     "name": "stdout",
     "output_type": "stream",
     "text": [
      "total number of mivqa questions:  156\n"
     ]
    },
    {
     "name": "stderr",
     "output_type": "stream",
     "text": [
      "\n"
     ]
    }
   ],
   "source": [
    "mivqa_period_t4 = generate_period_question_t4(ann_period_grouped)\n",
    "print(\"total number of mivqa questions: \", len(mivqa_period_t4))"
   ]
  },
  {
   "cell_type": "code",
   "execution_count": 189,
   "metadata": {},
   "outputs": [
    {
     "name": "stderr",
     "output_type": "stream",
     "text": [
      "14it [00:00, 138818.57it/s]\n",
      "14it [00:00, 146434.55it/s]\n",
      "1it [00:00, 34952.53it/s]\n",
      "14it [00:00, 150564.76it/s]\n",
      "1it [00:00, 34379.54it/s]\n",
      "46it [00:00, 132785.95it/s]"
     ]
    },
    {
     "name": "stdout",
     "output_type": "stream",
     "text": [
      "total number of mivqa questions:  90\n"
     ]
    },
    {
     "name": "stderr",
     "output_type": "stream",
     "text": [
      "\n"
     ]
    }
   ],
   "source": [
    "mivqa_period_t5 = generate_period_question_t5(ann_period_grouped)\n",
    "print(\"total number of mivqa questions: \", len(mivqa_period_t5))"
   ]
  },
  {
   "cell_type": "code",
   "execution_count": null,
   "metadata": {},
   "outputs": [],
   "source": []
  }
 ],
 "metadata": {
  "kernelspec": {
   "display_name": "py11",
   "language": "python",
   "name": "python3"
  },
  "language_info": {
   "codemirror_mode": {
    "name": "ipython",
    "version": 3
   },
   "file_extension": ".py",
   "mimetype": "text/x-python",
   "name": "python",
   "nbconvert_exporter": "python",
   "pygments_lexer": "ipython3",
   "version": "3.11.11"
  }
 },
 "nbformat": 4,
 "nbformat_minor": 2
}
